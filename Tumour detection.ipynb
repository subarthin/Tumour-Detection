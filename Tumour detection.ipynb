{
 "cells": [
  {
   "cell_type": "code",
   "execution_count": null,
   "id": "eec27f40",
   "metadata": {},
   "outputs": [],
   "source": [
    "## CNN MODELING OF Brain Tumour"
   ]
  },
  {
   "cell_type": "code",
   "execution_count": 1,
   "id": "e4f2ea8e",
   "metadata": {},
   "outputs": [],
   "source": [
    "# vgg16\n",
    "import keras,os\n",
    "from keras.models import Sequential\n",
    "from keras.layers import Dense, Conv2D, MaxPool2D , Flatten, Dropout\n",
    "from keras.preprocessing.image import ImageDataGenerator\n",
    "import numpy as np\n",
    "from keras.applications.vgg16 import VGG16\n",
    "from glob import glob\n",
    "from keras.models import Model\n",
    "import tensorflow as tf\n",
    "import matplotlib.pyplot as plt\n",
    "from keras.losses import binary_crossentropy\n",
    "physical_devices = tf.config.experimental.list_physical_devices('GPU')\n",
    "from keras.callbacks import ModelCheckpoint, EarlyStopping"
   ]
  },
  {
   "cell_type": "code",
   "execution_count": 2,
   "id": "f0b3d482",
   "metadata": {},
   "outputs": [],
   "source": [
    "#Using VGG16 model with predefined imagenet weights\n",
    "vgg = VGG16(input_shape=[240,240,3], weights='imagenet', include_top=False)"
   ]
  },
  {
   "cell_type": "code",
   "execution_count": 3,
   "id": "f864db7e",
   "metadata": {},
   "outputs": [
    {
     "name": "stdout",
     "output_type": "stream",
     "text": [
      "2\n"
     ]
    }
   ],
   "source": [
    "#finding number of individual files in train folder\n",
    "folders = glob(\"D:\\\\subi\\\\data\\\\Brain Tumor Data Set\\\\Train\\\\*\")\n",
    "print(len(folders))"
   ]
  },
  {
   "cell_type": "code",
   "execution_count": 4,
   "id": "2101383b",
   "metadata": {},
   "outputs": [],
   "source": [
    "#skipping training of layers\n",
    "for layer in vgg.layers:\n",
    "  layer.trainable = False\n",
    "x = Flatten()(vgg.output)"
   ]
  },
  {
   "cell_type": "code",
   "execution_count": 5,
   "id": "9d759491",
   "metadata": {},
   "outputs": [],
   "source": [
    "# creating a dense layer with no. of neurons matching the no. of images\n",
    "prediction = Dense(len(folders), activation='softmax')(x)"
   ]
  },
  {
   "cell_type": "code",
   "execution_count": 6,
   "id": "35fc66d6",
   "metadata": {},
   "outputs": [],
   "source": [
    "#model building\n",
    "model = Model(inputs=vgg.input, outputs=prediction)"
   ]
  },
  {
   "cell_type": "code",
   "execution_count": 7,
   "id": "8dd77bd1",
   "metadata": {},
   "outputs": [
    {
     "name": "stdout",
     "output_type": "stream",
     "text": [
      "Model: \"model\"\n",
      "_________________________________________________________________\n",
      " Layer (type)                Output Shape              Param #   \n",
      "=================================================================\n",
      " input_1 (InputLayer)        [(None, 240, 240, 3)]     0         \n",
      "                                                                 \n",
      " block1_conv1 (Conv2D)       (None, 240, 240, 64)      1792      \n",
      "                                                                 \n",
      " block1_conv2 (Conv2D)       (None, 240, 240, 64)      36928     \n",
      "                                                                 \n",
      " block1_pool (MaxPooling2D)  (None, 120, 120, 64)      0         \n",
      "                                                                 \n",
      " block2_conv1 (Conv2D)       (None, 120, 120, 128)     73856     \n",
      "                                                                 \n",
      " block2_conv2 (Conv2D)       (None, 120, 120, 128)     147584    \n",
      "                                                                 \n",
      " block2_pool (MaxPooling2D)  (None, 60, 60, 128)       0         \n",
      "                                                                 \n",
      " block3_conv1 (Conv2D)       (None, 60, 60, 256)       295168    \n",
      "                                                                 \n",
      " block3_conv2 (Conv2D)       (None, 60, 60, 256)       590080    \n",
      "                                                                 \n",
      " block3_conv3 (Conv2D)       (None, 60, 60, 256)       590080    \n",
      "                                                                 \n",
      " block3_pool (MaxPooling2D)  (None, 30, 30, 256)       0         \n",
      "                                                                 \n",
      " block4_conv1 (Conv2D)       (None, 30, 30, 512)       1180160   \n",
      "                                                                 \n",
      " block4_conv2 (Conv2D)       (None, 30, 30, 512)       2359808   \n",
      "                                                                 \n",
      " block4_conv3 (Conv2D)       (None, 30, 30, 512)       2359808   \n",
      "                                                                 \n",
      " block4_pool (MaxPooling2D)  (None, 15, 15, 512)       0         \n",
      "                                                                 \n",
      " block5_conv1 (Conv2D)       (None, 15, 15, 512)       2359808   \n",
      "                                                                 \n",
      " block5_conv2 (Conv2D)       (None, 15, 15, 512)       2359808   \n",
      "                                                                 \n",
      " block5_conv3 (Conv2D)       (None, 15, 15, 512)       2359808   \n",
      "                                                                 \n",
      " block5_pool (MaxPooling2D)  (None, 7, 7, 512)         0         \n",
      "                                                                 \n",
      " flatten (Flatten)           (None, 25088)             0         \n",
      "                                                                 \n",
      " dense (Dense)               (None, 2)                 50178     \n",
      "                                                                 \n",
      "=================================================================\n",
      "Total params: 14,764,866\n",
      "Trainable params: 50,178\n",
      "Non-trainable params: 14,714,688\n",
      "_________________________________________________________________\n"
     ]
    }
   ],
   "source": [
    "#summary of model\n",
    "model.summary()"
   ]
  },
  {
   "cell_type": "code",
   "execution_count": 8,
   "id": "57ddf817",
   "metadata": {},
   "outputs": [],
   "source": [
    "#compilation\n",
    "model.compile(\n",
    "  loss='categorical_crossentropy',\n",
    "  optimizer='adam',\n",
    "  metrics=['accuracy']\n",
    ")"
   ]
  },
  {
   "cell_type": "code",
   "execution_count": 9,
   "id": "44c4518c",
   "metadata": {},
   "outputs": [],
   "source": [
    "file_path_train=\"D:/subi/data/Brain Tumor Data Set/Train\"\n",
    "file_path_test=\"D:/subi/data/Brain Tumor Data Set/Test\"\n",
    "img_size = 224\n",
    "target_size = (img_size, img_size)\n",
    "case_of_image = {\n",
    "    0:\"Brain Tumor\", 1: \"Healthy\"\n",
    "}\n",
    "filters = 8\n",
    "pool_size = (2, 2)\n",
    "kernel_size = (3, 3)\n",
    "batch_size = 64\n",
    "activation = \"relu\"\n",
    "rate = 0.25\n",
    "optimizer = \"adam\"\n",
    "epochs=40"
   ]
  },
  {
   "cell_type": "code",
   "execution_count": 10,
   "id": "e63b7db0",
   "metadata": {},
   "outputs": [],
   "source": [
    "f=glob(\"D:/subi/data/Brain Tumor Data Set/Test/*\")\n"
   ]
  },
  {
   "cell_type": "code",
   "execution_count": 11,
   "id": "a3329136",
   "metadata": {},
   "outputs": [
    {
     "name": "stdout",
     "output_type": "stream",
     "text": [
      "Found 2569 images belonging to 2 classes.\n",
      "Found 278 images belonging to 2 classes.\n"
     ]
    }
   ],
   "source": [
    "# using Imagedatagenerator to scale normalize the images and generating more images from existing ones\n",
    "from keras.preprocessing.image import ImageDataGenerator\n",
    "\n",
    "data_gen = ImageDataGenerator(rescale = 1.0/255, validation_split = 0.3)\n",
    "\n",
    "test_datagen = ImageDataGenerator(rescale = 1./255)\n",
    "train_gen = data_gen.flow_from_directory(\n",
    "    file_path_train,\n",
    "    target_size = target_size,\n",
    "    batch_size = batch_size,\n",
    "    color_mode = \"grayscale\",\n",
    "    shuffle = True,\n",
    "    class_mode = \"binary\",\n",
    "    subset = \"training\"\n",
    "    \n",
    ")\n",
    "test_gen = data_gen.flow_from_directory( \n",
    "    file_path_test,\n",
    "    target_size = target_size,\n",
    "    batch_size = batch_size,\n",
    "    color_mode = \"grayscale\",\n",
    "    shuffle = False,\n",
    "    class_mode = \"binary\",\n",
    "    subset = \"validation\"\n",
    ")"
   ]
  },
  {
   "cell_type": "code",
   "execution_count": null,
   "id": "d615dd00",
   "metadata": {},
   "outputs": [],
   "source": []
  },
  {
   "cell_type": "code",
   "execution_count": 12,
   "id": "c7201d64",
   "metadata": {},
   "outputs": [],
   "source": [
    "model = Sequential()"
   ]
  },
  {
   "cell_type": "code",
   "execution_count": 13,
   "id": "0d66254d",
   "metadata": {},
   "outputs": [],
   "source": [
    "input_shape = train_gen[0][0][0].shape\n",
    "# CNN model, Extract the features from the images and build the model\n",
    "model.add(Conv2D(filters=filters, kernel_size=kernel_size, input_shape=input_shape, activation=activation))\n",
    "\n",
    "model.add(Conv2D(filters=filters * 2, kernel_size=kernel_size, activation=activation))\n",
    "model.add(MaxPool2D(pool_size=pool_size))\n",
    "\n",
    "model.add(Conv2D(filters=filters * 4, kernel_size=kernel_size, activation=activation))\n",
    "model.add(MaxPool2D(pool_size=pool_size))\n",
    "\n",
    "model.add(Conv2D(filters=filters * 8, kernel_size=kernel_size, activation=activation))\n",
    "model.add(MaxPool2D(pool_size=pool_size))\n",
    "\n",
    "model.add(Conv2D(filters=filters * 16, kernel_size=kernel_size, activation=activation))\n",
    "model.add(MaxPool2D(pool_size=pool_size))\n",
    "\n",
    "model.add(Dropout(rate=rate))\n",
    "model.add(Flatten())\n",
    "model.add(Dense(units=filters*8, activation=activation))\n",
    "\n",
    "model.add(Dropout(rate=rate))\n",
    "model.add(Dense(units=filters//8, activation='sigmoid'))"
   ]
  },
  {
   "cell_type": "code",
   "execution_count": 14,
   "id": "61efd27f",
   "metadata": {},
   "outputs": [],
   "source": [
    "model.compile(loss=binary_crossentropy, optimizer=optimizer, metrics=['accuracy'])"
   ]
  },
  {
   "cell_type": "code",
   "execution_count": 15,
   "id": "c3cd664e",
   "metadata": {},
   "outputs": [
    {
     "name": "stdout",
     "output_type": "stream",
     "text": [
      "Epoch 1/40\n",
      "40/40 [==============================] - ETA: 0s - loss: 0.5918 - accuracy: 0.6862\n",
      "Epoch 1: saving model to Brain Tumor.h5\n",
      "40/40 [==============================] - 15s 195ms/step - loss: 0.5918 - accuracy: 0.6862 - val_loss: 0.5367 - val_accuracy: 0.7230\n",
      "Epoch 2/40\n",
      "40/40 [==============================] - ETA: 0s - loss: 0.4306 - accuracy: 0.7896\n",
      "Epoch 2: saving model to Brain Tumor.h5\n",
      "40/40 [==============================] - 7s 181ms/step - loss: 0.4306 - accuracy: 0.7896 - val_loss: 0.5881 - val_accuracy: 0.6835\n",
      "Epoch 3/40\n",
      "40/40 [==============================] - ETA: 0s - loss: 0.3318 - accuracy: 0.8567\n",
      "Epoch 3: saving model to Brain Tumor.h5\n",
      "40/40 [==============================] - 7s 181ms/step - loss: 0.3318 - accuracy: 0.8567 - val_loss: 0.4092 - val_accuracy: 0.8165\n",
      "Epoch 4/40\n",
      "40/40 [==============================] - ETA: 0s - loss: 0.2590 - accuracy: 0.8870\n",
      "Epoch 4: saving model to Brain Tumor.h5\n",
      "40/40 [==============================] - 7s 185ms/step - loss: 0.2590 - accuracy: 0.8870 - val_loss: 0.3956 - val_accuracy: 0.7986\n",
      "Epoch 5/40\n",
      "40/40 [==============================] - ETA: 0s - loss: 0.2002 - accuracy: 0.9230\n",
      "Epoch 5: saving model to Brain Tumor.h5\n",
      "40/40 [==============================] - 7s 181ms/step - loss: 0.2002 - accuracy: 0.9230 - val_loss: 0.2617 - val_accuracy: 0.8849\n",
      "Epoch 6/40\n",
      "40/40 [==============================] - ETA: 0s - loss: 0.1548 - accuracy: 0.9397\n",
      "Epoch 6: saving model to Brain Tumor.h5\n",
      "40/40 [==============================] - 7s 184ms/step - loss: 0.1548 - accuracy: 0.9397 - val_loss: 0.2156 - val_accuracy: 0.9101\n",
      "Epoch 7/40\n",
      "40/40 [==============================] - ETA: 0s - loss: 0.1082 - accuracy: 0.9593\n",
      "Epoch 7: saving model to Brain Tumor.h5\n",
      "40/40 [==============================] - 7s 182ms/step - loss: 0.1082 - accuracy: 0.9593 - val_loss: 0.2728 - val_accuracy: 0.8921\n",
      "Epoch 8/40\n",
      "40/40 [==============================] - ETA: 0s - loss: 0.0948 - accuracy: 0.9657\n",
      "Epoch 8: saving model to Brain Tumor.h5\n",
      "40/40 [==============================] - 8s 186ms/step - loss: 0.0948 - accuracy: 0.9657 - val_loss: 0.2396 - val_accuracy: 0.9245\n",
      "Epoch 9/40\n",
      "40/40 [==============================] - ETA: 0s - loss: 0.0616 - accuracy: 0.9776\n",
      "Epoch 9: saving model to Brain Tumor.h5\n",
      "40/40 [==============================] - 8s 199ms/step - loss: 0.0616 - accuracy: 0.9776 - val_loss: 0.1109 - val_accuracy: 0.9568\n",
      "Epoch 10/40\n",
      "40/40 [==============================] - ETA: 0s - loss: 0.0612 - accuracy: 0.9796\n",
      "Epoch 10: saving model to Brain Tumor.h5\n",
      "40/40 [==============================] - 8s 193ms/step - loss: 0.0612 - accuracy: 0.9796 - val_loss: 0.1777 - val_accuracy: 0.9137\n",
      "Epoch 11/40\n",
      "40/40 [==============================] - ETA: 0s - loss: 0.0384 - accuracy: 0.9888\n",
      "Epoch 11: saving model to Brain Tumor.h5\n",
      "40/40 [==============================] - 8s 186ms/step - loss: 0.0384 - accuracy: 0.9888 - val_loss: 0.1166 - val_accuracy: 0.9676\n",
      "Epoch 12/40\n",
      "40/40 [==============================] - ETA: 0s - loss: 0.0318 - accuracy: 0.9900\n",
      "Epoch 12: saving model to Brain Tumor.h5\n",
      "40/40 [==============================] - 7s 183ms/step - loss: 0.0318 - accuracy: 0.9900 - val_loss: 0.1351 - val_accuracy: 0.9460\n",
      "Epoch 13/40\n",
      "40/40 [==============================] - ETA: 0s - loss: 0.0735 - accuracy: 0.9709\n",
      "Epoch 13: saving model to Brain Tumor.h5\n",
      "40/40 [==============================] - 7s 184ms/step - loss: 0.0735 - accuracy: 0.9709 - val_loss: 0.0853 - val_accuracy: 0.9676\n",
      "Epoch 14/40\n",
      "40/40 [==============================] - ETA: 0s - loss: 0.0371 - accuracy: 0.9868\n",
      "Epoch 14: saving model to Brain Tumor.h5\n",
      "40/40 [==============================] - 7s 182ms/step - loss: 0.0371 - accuracy: 0.9868 - val_loss: 0.0915 - val_accuracy: 0.9676\n",
      "Epoch 15/40\n",
      "40/40 [==============================] - ETA: 0s - loss: 0.0242 - accuracy: 0.9920\n",
      "Epoch 15: saving model to Brain Tumor.h5\n",
      "40/40 [==============================] - 8s 186ms/step - loss: 0.0242 - accuracy: 0.9920 - val_loss: 0.0865 - val_accuracy: 0.9784\n",
      "Epoch 16/40\n",
      "40/40 [==============================] - ETA: 0s - loss: 0.0314 - accuracy: 0.9888\n",
      "Epoch 16: saving model to Brain Tumor.h5\n",
      "40/40 [==============================] - 7s 182ms/step - loss: 0.0314 - accuracy: 0.9888 - val_loss: 0.1984 - val_accuracy: 0.9460\n",
      "Epoch 17/40\n",
      "39/40 [============================>.] - ETA: 0s - loss: 0.0192 - accuracy: 0.9924\n",
      "Epoch 17: saving model to Brain Tumor.h5\n",
      "40/40 [==============================] - 8s 189ms/step - loss: 0.0193 - accuracy: 0.9924 - val_loss: 0.0774 - val_accuracy: 0.9748\n",
      "Epoch 18/40\n",
      "40/40 [==============================] - ETA: 0s - loss: 0.0248 - accuracy: 0.9904\n",
      "Epoch 18: saving model to Brain Tumor.h5\n",
      "40/40 [==============================] - 7s 181ms/step - loss: 0.0248 - accuracy: 0.9904 - val_loss: 0.0603 - val_accuracy: 0.9748\n",
      "Epoch 19/40\n",
      "39/40 [============================>.] - ETA: 0s - loss: 0.0188 - accuracy: 0.9932\n",
      "Epoch 19: saving model to Brain Tumor.h5\n",
      "40/40 [==============================] - 7s 182ms/step - loss: 0.0188 - accuracy: 0.9932 - val_loss: 0.1816 - val_accuracy: 0.9532\n",
      "Epoch 19: early stopping\n"
     ]
    }
   ],
   "source": [
    "from keras.callbacks import ModelCheckpoint, EarlyStopping\n",
    "es = EarlyStopping(monitor='val_accuracy', patience=4, min_delta=0.01, verbose=1, mode='auto')\n",
    "mcp = ModelCheckpoint(monitor='val_accuracy', verbose=1, mode='auto', filepath='Brain Tumor.h5')\n",
    "em = [es, mcp]\n",
    "r = model.fit(\n",
    "    train_gen,\n",
    "    steps_per_epoch=(train_gen.samples // batch_size) ,\n",
    "    epochs=epochs,\n",
    "    validation_data=test_gen,\n",
    "    callbacks=em)"
   ]
  },
  {
   "cell_type": "code",
   "execution_count": 16,
   "id": "217e9738",
   "metadata": {},
   "outputs": [
    {
     "data": {
      "image/png": "[encoded data removed]",
      "text/plain": [
       "<Figure size 640x480 with 1 Axes>"
      ]
     },
     "metadata": {},
     "output_type": "display_data"
    },
    {
     "data": {
      "text/plain": [
       "<Figure size 640x480 with 0 Axes>"
      ]
     },
     "metadata": {},
     "output_type": "display_data"
    }
   ],
   "source": [
    "import matplotlib.pyplot as plt\n",
    "plt.plot(r.history['loss'], label='train loss')\n",
    "plt.plot(r.history['val_loss'], label='val loss')\n",
    "plt.legend()\n",
    "plt.show()\n",
    "plt.savefig('LossVal_loss')"
   ]
  },
  {
   "cell_type": "code",
   "execution_count": 17,
   "id": "a41f52b8",
   "metadata": {},
   "outputs": [
    {
     "data": {
      "image/png": "[encoded data removed]",
      "text/plain": [
       "<Figure size 640x480 with 1 Axes>"
      ]
     },
     "metadata": {},
     "output_type": "display_data"
    },
    {
     "data": {
      "text/plain": [
       "<Figure size 640x480 with 0 Axes>"
      ]
     },
     "metadata": {},
     "output_type": "display_data"
    }
   ],
   "source": [
    "plt.plot(r.history['accuracy'], label='train acc')\n",
    "plt.plot(r.history['val_accuracy'], label='val acc')\n",
    "plt.legend()\n",
    "plt.show()\n",
    "plt.savefig('AccVal_acc')"
   ]
  },
  {
   "cell_type": "code",
   "execution_count": 19,
   "id": "d78ce0b8",
   "metadata": {},
   "outputs": [],
   "source": [
    "import tensorflow as tf\n",
    "\n",
    "from keras.models import load_model\n",
    "\n",
    "model.save('brain.h5')"
   ]
  },
  {
   "cell_type": "code",
   "execution_count": null,
   "id": "c9c347c9",
   "metadata": {},
   "outputs": [],
   "source": []
  }
 ],
 "metadata": {
  "kernelspec": {
   "display_name": "Python 3 (ipykernel)",
   "language": "python",
   "name": "python3"
  },
  "language_info": {
   "codemirror_mode": {
    "name": "ipython",
    "version": 3
   },
   "file_extension": ".py",
   "mimetype": "text/x-python",
   "name": "python",
   "nbconvert_exporter": "python",
   "pygments_lexer": "ipython3",
   "version": "3.10.9"
  }
 },
 "nbformat": 4,
 "nbformat_minor": 5
}
